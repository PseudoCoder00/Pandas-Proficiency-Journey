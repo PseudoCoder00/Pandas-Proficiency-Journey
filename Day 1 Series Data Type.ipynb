{
 "cells": [
  {
   "cell_type": "markdown",
   "id": "f4a5aa2e-53b9-4109-a1e0-48ab007b51a9",
   "metadata": {},
   "source": [
    "Series Data Type"
   ]
  },
  {
   "cell_type": "code",
   "execution_count": 7,
   "id": "7576adbb-4a84-43a2-a6ca-1f8fa1f3e93a",
   "metadata": {},
   "outputs": [],
   "source": [
    "import pandas as pd"
   ]
  },
  {
   "cell_type": "code",
   "execution_count": 11,
   "id": "bf7ee72b-2ebb-4383-b823-2f79eea85376",
   "metadata": {},
   "outputs": [
    {
     "name": "stdout",
     "output_type": "stream",
     "text": [
      "0    1\n",
      "1    2\n",
      "2    3\n",
      "3    4\n",
      "dtype: int64\n"
     ]
    }
   ],
   "source": [
    "x = [1,2,3,4]\n",
    "Y = pd.Series(x) # Data and index number both are shown\n",
    "print(Y)"
   ]
  },
  {
   "cell_type": "code",
   "execution_count": 12,
   "id": "f7a4a499-4c99-44dd-93e2-d83c6ad4b4fd",
   "metadata": {},
   "outputs": [
    {
     "name": "stdout",
     "output_type": "stream",
     "text": [
      "3\n"
     ]
    }
   ],
   "source": [
    "print(Y[2])"
   ]
  },
  {
   "cell_type": "code",
   "execution_count": 13,
   "id": "ab652f69-37a6-4bda-99eb-e64aa59afa09",
   "metadata": {},
   "outputs": [
    {
     "name": "stdout",
     "output_type": "stream",
     "text": [
      "a    1\n",
      "b    2\n",
      "c    3\n",
      "d    4\n",
      "dtype: int64\n"
     ]
    }
   ],
   "source": [
    "x = [1,2,3,4]\n",
    "Y = pd.Series(x, index = ['a', 'b', 'c', 'd']) #changing the index\n",
    "print(Y)"
   ]
  },
  {
   "cell_type": "code",
   "execution_count": 14,
   "id": "5a630a47-a491-4869-9841-357d0d9da81b",
   "metadata": {},
   "outputs": [
    {
     "name": "stdout",
     "output_type": "stream",
     "text": [
      "a    1.0\n",
      "b    2.0\n",
      "c    3.0\n",
      "d    4.0\n",
      "Name: python, dtype: float64\n"
     ]
    }
   ],
   "source": [
    "x = [1,2,3,4]\n",
    "Y = pd.Series(x, index = ['a', 'b', 'c', 'd'], dtype = \"float\", name = \"python\")\n",
    "print(Y)"
   ]
  },
  {
   "cell_type": "code",
   "execution_count": 15,
   "id": "140bba07-b79c-46db-b945-ea8308a5401e",
   "metadata": {},
   "outputs": [],
   "source": [
    "dic = {'Name':['C++', 'Python', 'GoLang', 'Java'], 'popularity':{1,2,3,4}, 'Rank':['2,1,3,4']}\n"
   ]
  },
  {
   "cell_type": "code",
   "execution_count": 17,
   "id": "345707ae-6baf-414f-b5f9-072ba7f0e153",
   "metadata": {},
   "outputs": [
    {
     "data": {
      "text/plain": [
       "Name          [C++, Python, GoLang, Java]\n",
       "popularity                   {1, 2, 3, 4}\n",
       "Rank                            [2,1,3,4]\n",
       "dtype: object"
      ]
     },
     "execution_count": 17,
     "metadata": {},
     "output_type": "execute_result"
    }
   ],
   "source": [
    "X = pd.Series(dic)\n",
    "X"
   ]
  },
  {
   "cell_type": "code",
   "execution_count": 21,
   "id": "99507af4-0a02-431f-9f01-d86616676d2b",
   "metadata": {},
   "outputs": [
    {
     "name": "stdout",
     "output_type": "stream",
     "text": [
      "0    55\n",
      "dtype: int64\n"
     ]
    },
    {
     "data": {
      "text/plain": [
       "pandas.core.series.Series"
      ]
     },
     "execution_count": 21,
     "metadata": {},
     "output_type": "execute_result"
    }
   ],
   "source": [
    "S = pd.Series(55)\n",
    "print(S)\n",
    "type(S)"
   ]
  },
  {
   "cell_type": "code",
   "execution_count": null,
   "id": "be6c8abb-0973-4da8-8158-20a7279b7cbb",
   "metadata": {},
   "outputs": [],
   "source": []
  }
 ],
 "metadata": {
  "kernelspec": {
   "display_name": "Python 3 (ipykernel)",
   "language": "python",
   "name": "python3"
  },
  "language_info": {
   "codemirror_mode": {
    "name": "ipython",
    "version": 3
   },
   "file_extension": ".py",
   "mimetype": "text/x-python",
   "name": "python",
   "nbconvert_exporter": "python",
   "pygments_lexer": "ipython3",
   "version": "3.12.2"
  }
 },
 "nbformat": 4,
 "nbformat_minor": 5
}
